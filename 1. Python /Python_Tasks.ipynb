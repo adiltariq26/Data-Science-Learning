{
 "cells": [
  {
   "cell_type": "markdown",
   "id": "06ebe9b6-8cac-4f0b-88bc-89a3471905cf",
   "metadata": {},
   "source": [
    "# 🤡 Level # 1"
   ]
  },
  {
   "cell_type": "markdown",
   "id": "867c007f-f86f-4b87-8407-595727c2c7a3",
   "metadata": {},
   "source": [
    "#### Task No 1 "
   ]
  },
  {
   "cell_type": "code",
   "execution_count": 6,
   "id": "55668279-5805-42b8-9648-56adc21e61dd",
   "metadata": {},
   "outputs": [
    {
     "name": "stdout",
     "output_type": "stream",
     "text": [
      "Hello,GokBoru!\n"
     ]
    }
   ],
   "source": [
    "# Print a Greeting\n",
    "name = \"GokBoru!\"\n",
    "print(f\"Hello,{name}\")"
   ]
  },
  {
   "cell_type": "markdown",
   "id": "63d0e6f6-3c39-452a-9600-c4d01076a629",
   "metadata": {},
   "source": [
    "#### Task No 2"
   ]
  },
  {
   "cell_type": "code",
   "execution_count": 11,
   "id": "d108e120-4da7-42f7-92fb-a597bb24d1b6",
   "metadata": {},
   "outputs": [
    {
     "name": "stdout",
     "output_type": "stream",
     "text": [
      "PYTHON IS FUN!\n"
     ]
    }
   ],
   "source": [
    "# Change Case\n",
    "task_1 = \"Python is fun!\".upper()\n",
    "print(task_1)"
   ]
  },
  {
   "cell_type": "code",
   "execution_count": 12,
   "id": "2505950d-f777-4498-b302-6a4117ef1219",
   "metadata": {},
   "outputs": [
    {
     "name": "stdout",
     "output_type": "stream",
     "text": [
      "python is fun! \n"
     ]
    }
   ],
   "source": [
    "task_2 = \"PYTHON IS FUN! \".lower()\n",
    "print(task_2)"
   ]
  },
  {
   "cell_type": "code",
   "execution_count": 13,
   "id": "3d987f57-0023-45ba-afae-718ce6ba1b08",
   "metadata": {},
   "outputs": [
    {
     "name": "stdout",
     "output_type": "stream",
     "text": [
      "Python Is Fun!\n"
     ]
    }
   ],
   "source": [
    "task_3 = \"python is fun!\".title()\n",
    "print(task_3)"
   ]
  },
  {
   "cell_type": "markdown",
   "id": "4afe03b4-8f60-445b-866b-26892981ddb3",
   "metadata": {},
   "source": [
    "#### Task No 3"
   ]
  },
  {
   "cell_type": "code",
   "execution_count": 19,
   "id": "0b51ebd6-e9dd-44b9-b1a6-cb4166c214ac",
   "metadata": {},
   "outputs": [
    {
     "name": "stdout",
     "output_type": "stream",
     "text": [
      "My Name is:GokCyber,\n",
      "My Age is:22,\n",
      "I live in:Lahore\n"
     ]
    }
   ],
   "source": [
    "# Store Personal Info in Variables\n",
    "name = \"GokCyber\"\n",
    "age = 22\n",
    "city = \"Lahore\"\n",
    "print(f\"My Name is:{name},\\nMy Age is:{age},\\nI live in:{city}\")"
   ]
  },
  {
   "cell_type": "markdown",
   "id": "22f00b27-a4ed-450d-8805-45b00e6a388e",
   "metadata": {},
   "source": [
    "#### Task No 4 "
   ]
  },
  {
   "cell_type": "code",
   "execution_count": 24,
   "id": "bf59bcc0-1453-4242-a8d8-868aa172c768",
   "metadata": {},
   "outputs": [
    {
     "name": "stdout",
     "output_type": "stream",
     "text": [
      "First Fruit is : apple\n",
      "Last Fruit is : orange\n"
     ]
    }
   ],
   "source": [
    "# List of Fruits - Create a list of 5 fruits. Print the first and last fruit\n",
    "fruits = ['apple','banana','cherry','mango','orange']\n",
    "print(\"First Fruit is :\", fruits[0])\n",
    "print(\"Last Fruit is :\", fruits[-1])"
   ]
  },
  {
   "cell_type": "markdown",
   "id": "69fffd97-779f-4663-8be0-963af64051bb",
   "metadata": {},
   "source": [
    "#### Task No 5 "
   ]
  },
  {
   "cell_type": "code",
   "execution_count": 28,
   "id": "be6703f1-ebad-4e74-99d1-10757cc52cc4",
   "metadata": {},
   "outputs": [
    {
     "data": {
      "text/plain": [
       "{'name': 'Gokcyber', 'Roll_No': 12, 'Grade': 'A+'}"
      ]
     },
     "execution_count": 28,
     "metadata": {},
     "output_type": "execute_result"
    }
   ],
   "source": [
    "# Simple Dictionary -- Create a dictionary for a student with name, roll_no, and grade.\n",
    "std_data = { \n",
    "    \"name\" : \"Gokcyber\",\n",
    "    \"Roll_No\" : 12,\n",
    "    \"Grade\" : \"A+\"\n",
    "}\n",
    "std_data"
   ]
  },
  {
   "cell_type": "markdown",
   "id": "d89a420f-d269-495a-aaa8-a51213cf4921",
   "metadata": {},
   "source": [
    "#### Task No 6 "
   ]
  },
  {
   "cell_type": "code",
   "execution_count": 36,
   "id": "1e4a0aca-067a-4ae4-b352-915b69659860",
   "metadata": {},
   "outputs": [
    {
     "name": "stdin",
     "output_type": "stream",
     "text": [
      "Enter a Number:  34\n"
     ]
    },
    {
     "name": "stdout",
     "output_type": "stream",
     "text": [
      "Number is Even!\n"
     ]
    }
   ],
   "source": [
    "# Even or Odd - Input a number and print whether it’s even or odd using an if statement.\n",
    "num = int(input(\"Enter a Number: \"))\n",
    "if num % 2 == 0 :\n",
    "    print(\"Number is Even!\")\n",
    "else:\n",
    "    print(\"Number is odd!\")"
   ]
  },
  {
   "cell_type": "markdown",
   "id": "25cb73ef-0c34-49a0-9d9a-4578a7d903d0",
   "metadata": {},
   "source": [
    "#### Task No 7 "
   ]
  },
  {
   "cell_type": "code",
   "execution_count": 40,
   "id": "0d14cf0d-ee3f-4ff6-9239-d330df17e617",
   "metadata": {},
   "outputs": [
    {
     "name": "stdout",
     "output_type": "stream",
     "text": [
      "1\n",
      "2\n",
      "3\n",
      "4\n",
      "5\n",
      "6\n",
      "7\n",
      "8\n",
      "9\n",
      "10\n"
     ]
    }
   ],
   "source": [
    "# For Loop: Countingg\n",
    "for x in range(1,11):\n",
    "    print(x)"
   ]
  },
  {
   "cell_type": "markdown",
   "id": "dc51e96c-0ee3-4ae1-864a-0ec599e5e140",
   "metadata": {},
   "source": [
    "#### Task No 8 "
   ]
  },
  {
   "cell_type": "code",
   "execution_count": 42,
   "id": "381b741e-5d15-4ae7-b04f-a0a55b8321ba",
   "metadata": {},
   "outputs": [
    {
     "name": "stdout",
     "output_type": "stream",
     "text": [
      "Hello! Welcome to Python.\n"
     ]
    }
   ],
   "source": [
    "# Simple Function -- Create a function greet() that prints “Hello! Welcome to Python\n",
    "def greeting():\n",
    "    print(\"Hello! Welcome to Python.\")\n",
    "    return\n",
    "greeting()"
   ]
  },
  {
   "cell_type": "markdown",
   "id": "1a41461d-8abc-46ca-9ddc-133e4e5c79de",
   "metadata": {},
   "source": [
    "#### Task No 9 "
   ]
  },
  {
   "cell_type": "code",
   "execution_count": 49,
   "id": "968beab1-a925-4d7e-b763-6640ea595752",
   "metadata": {},
   "outputs": [
    {
     "name": "stdin",
     "output_type": "stream",
     "text": [
      "Enter a number to find its square root:  33\n"
     ]
    },
    {
     "name": "stdout",
     "output_type": "stream",
     "text": [
      "Square root of you desired number is:  5.744562646538029\n"
     ]
    }
   ],
   "source": [
    "# Using a Built-in Function - Ask for a number and print its square root using pow() or **.\n",
    "chk_num = int(input(\"Enter a number to find its square root: \"))\n",
    "square_root = pow(chk_num , 0.5)\n",
    "print(\"Square root of you desired number is: \",square_root)"
   ]
  },
  {
   "cell_type": "markdown",
   "id": "3fb9c94c-8305-418e-85ee-3b25838610ef",
   "metadata": {},
   "source": [
    "#### Task No 10 "
   ]
  },
  {
   "cell_type": "code",
   "execution_count": 53,
   "id": "e8f885e4-e436-4562-a2be-51871c435765",
   "metadata": {},
   "outputs": [
    {
     "name": "stdout",
     "output_type": "stream",
     "text": [
      "Value of Pi(π) :  3.141592653589793\n"
     ]
    }
   ],
   "source": [
    "# Import a Module - Import the math module and use math.pi to print the value of π.\n",
    "import math \n",
    "print(\"Value of Pi(π) : \", math.pi)\n",
    "    "
   ]
  },
  {
   "cell_type": "markdown",
   "id": "a84deb5b-ce7a-496a-bc32-a1166335b1ad",
   "metadata": {},
   "source": [
    "# 👾 Level # 2 "
   ]
  },
  {
   "cell_type": "markdown",
   "id": "b36c41ea-d9b1-4456-a8f7-1b50a4f4c35f",
   "metadata": {},
   "source": [
    "#### Task No 1"
   ]
  },
  {
   "cell_type": "code",
   "execution_count": 5,
   "id": "485d37ae-6cec-498e-b67a-b11ea4edb4f9",
   "metadata": {},
   "outputs": [
    {
     "name": "stdin",
     "output_type": "stream",
     "text": [
      "Enter a String:  Swap Two Variables Take two variables and swap them without using a third variable.\n"
     ]
    },
    {
     "name": "stdout",
     "output_type": "stream",
     "text": [
      "Modified String: {'Sw*p Tw* V*r**bl*s T*k* tw* v*r**bl*s *nd sw*p th*m w*th**t *s*ng * th*rd v*r**bl*.'}\n"
     ]
    }
   ],
   "source": [
    "# a complete Python program that asks the user for input and replaces all vowels with *\n",
    "# Get user input\n",
    "text = input(\"Enter a String: \")\n",
    "# Define vowels (both lowercase and uppercase)\n",
    "vowels = \"aeiouAEIOU\"\n",
    "# Replace vowels with *\n",
    "result = \"\"\n",
    "for char in text:\n",
    "    if char in vowels:\n",
    "        result += \"*\"\n",
    "    else:\n",
    "        result += char\n",
    "# Output the result\n",
    "print(f\"Modified String:\",{result} )\n"
   ]
  },
  {
   "cell_type": "markdown",
   "id": "307cb42a-a93d-4215-83ae-d12870a4d109",
   "metadata": {},
   "source": [
    "#### Task No 2"
   ]
  },
  {
   "cell_type": "code",
   "execution_count": 15,
   "id": "149af4fb-efc4-4739-94f8-708bcde22c54",
   "metadata": {},
   "outputs": [
    {
     "name": "stdout",
     "output_type": "stream",
     "text": [
      "a =  10\n",
      "b =  5\n"
     ]
    }
   ],
   "source": [
    "# Swap Two Variables\n",
    "# Take two variables and swap them without using a third variable.\n",
    "a = 5\n",
    "b = 10\n",
    "a,b = b,a\n",
    "print(\"a = \", a)\n",
    "print(\"b = \", b)"
   ]
  },
  {
   "cell_type": "markdown",
   "id": "8a90e9b6-9d0e-48d1-8183-dfc5a960c5b4",
   "metadata": {},
   "source": [
    "#### Task No 3"
   ]
  },
  {
   "cell_type": "code",
   "execution_count": 17,
   "id": "1a1d44e0-37f2-46af-a6e5-8d56c95a428b",
   "metadata": {},
   "outputs": [
    {
     "data": {
      "text/plain": [
       "[3, 66, 12, 33, 44, 22]"
      ]
     },
     "execution_count": 17,
     "metadata": {},
     "output_type": "execute_result"
    }
   ],
   "source": [
    "# List Slicing & Modification\n",
    "# Take a list of numbers, reverse it, and replace the middle item with 100.\n",
    "num = [22,44,33,12,66,3]\n",
    "num.reverse()\n",
    "num"
   ]
  },
  {
   "cell_type": "code",
   "execution_count": 18,
   "id": "2265a52c-15e9-4eba-8f82-b0602db921e2",
   "metadata": {},
   "outputs": [
    {
     "data": {
      "text/plain": [
       "[66, 44, 33, 22, 12, 3]"
      ]
     },
     "execution_count": 18,
     "metadata": {},
     "output_type": "execute_result"
    }
   ],
   "source": [
    "num = [22,44,33,12,66,3]\n",
    "num.sort(reverse=True)\n",
    "num"
   ]
  },
  {
   "cell_type": "code",
   "execution_count": 21,
   "id": "2e25f9b5-18c4-4ec9-9a8e-0a8d17abbf3a",
   "metadata": {},
   "outputs": [
    {
     "data": {
      "text/plain": [
       "[22, 44, 100, 33, 12, 66, 3]"
      ]
     },
     "execution_count": 21,
     "metadata": {},
     "output_type": "execute_result"
    }
   ],
   "source": [
    "num = [22,44,33,12,66,3]\n",
    "num.insert(2,100)\n",
    "num"
   ]
  },
  {
   "cell_type": "markdown",
   "id": "180c925f-b5e0-408c-9d20-de866548750a",
   "metadata": {},
   "source": [
    "#### Task No 4"
   ]
  },
  {
   "cell_type": "code",
   "execution_count": 31,
   "id": "2c8fd21e-38dc-40c6-ad31-26407c9ae74c",
   "metadata": {},
   "outputs": [
    {
     "data": {
      "text/plain": [
       "{'Title': 'Tafheem ul Quran',\n",
       " 'Author': 'Syed Abul Ala Maududi',\n",
       " 'book_publisher': {'name': 'Idara Tarjuman ul Quran', 'year': '1972'}}"
      ]
     },
     "execution_count": 31,
     "metadata": {},
     "output_type": "execute_result"
    }
   ],
   "source": [
    "# Nested Dictionary\n",
    "# Create a dictionary representing a book with title, author, and a nested dictionary for publisher with name and year.\n",
    "book = {\n",
    "    \"Title\" : \"Tafheem ul Quran\",\n",
    "    \"Author\" : \"Syed Abul Ala Maududi\",\n",
    "    \"book_publisher\" : {\n",
    "        \"name\" : \"Idara Tarjuman ul Quran\",\n",
    "        \"year\" : \"1972\"\n",
    "    }\n",
    "}\n",
    "\n",
    "book"
   ]
  },
  {
   "cell_type": "markdown",
   "id": "29992b51-e796-49ee-a4d4-3c9cf3fb1848",
   "metadata": {},
   "source": [
    "#### Task No 5"
   ]
  },
  {
   "cell_type": "code",
   "execution_count": 37,
   "id": "39b5c780-0b90-4b94-b4ee-59674f546eb1",
   "metadata": {},
   "outputs": [
    {
     "name": "stdin",
     "output_type": "stream",
     "text": [
      "Enter your Marks :  82\n"
     ]
    },
    {
     "name": "stdout",
     "output_type": "stream",
     "text": [
      "Your Grade is A \n"
     ]
    }
   ],
   "source": [
    "# Grade Evaluator\n",
    "# Take a number and print the grade: A, B, C, or Fail using if-elif-else.\n",
    "grade = int(input(\"Enter your Marks : \"))\n",
    "if grade >= 90 :\n",
    "    print(\"Your Grade is A+ \")\n",
    "elif grade >=80 :\n",
    "    print(\"Your Grade is A \")\n",
    "elif grade >=70 :\n",
    "    print(\"Your Grade is B \")\n",
    "elif grade >=60 :\n",
    "    print(\"Your Grade is C \")\n",
    "elif grade >= 55 :\n",
    "    print(\"Your Grade is D \")\n",
    "else:\n",
    "    print(\"You are Fail.\")\n"
   ]
  },
  {
   "cell_type": "markdown",
   "id": "c83a3151-128a-4e67-a909-ffa47701f25a",
   "metadata": {},
   "source": [
    "#### Task No 6 "
   ]
  },
  {
   "cell_type": "code",
   "execution_count": null,
   "id": "ffaca4ca-af1b-44e4-b875-5b307fc061b7",
   "metadata": {},
   "outputs": [],
   "source": [
    "# Sum of Even Numbers in a List\n",
    "# Use a for loop to find the sum of even numbers in a list.\n",
    "num = [1,2,3,4,5,6,7,8,9,10,11,12,13,14,15]\n",
    "for x in num(0,16,2):\n",
    "    "
   ]
  },
  {
   "cell_type": "markdown",
   "id": "443a5d40-730d-4670-9b10-2ad8210ce4bf",
   "metadata": {},
   "source": [
    "#### Task No 7"
   ]
  },
  {
   "cell_type": "code",
   "execution_count": 1,
   "id": "3f376809-f266-4289-b8c5-df5edfe377bd",
   "metadata": {},
   "outputs": [
    {
     "data": {
      "text/plain": [
       "45"
      ]
     },
     "execution_count": 1,
     "metadata": {},
     "output_type": "execute_result"
    }
   ],
   "source": [
    "# Function with Parameters\n",
    "# Write a function add(x, y) that returns the sum of two numbers.\n",
    "def sum_values(x,y):\n",
    "    z = x + y\n",
    "    return z\n",
    "sum_values(12,33)"
   ]
  },
  {
   "cell_type": "markdown",
   "id": "40a15229-bc08-43c0-8dcc-242aaf78ecb8",
   "metadata": {},
   "source": [
    "#### Task No 8"
   ]
  },
  {
   "cell_type": "code",
   "execution_count": 3,
   "id": "ac13af0a-ccef-4692-9c62-c91fb1035105",
   "metadata": {},
   "outputs": [
    {
     "name": "stdin",
     "output_type": "stream",
     "text": [
      "Enter Numbers Separated By Spaces:  0 19 -1 2 3 10 8\n"
     ]
    },
    {
     "name": "stdout",
     "output_type": "stream",
     "text": [
      "The Maximum Scores are:  19\n"
     ]
    }
   ],
   "source": [
    "# Find Maximum using Built-in Function\n",
    "# Use max() on a list of numbers entered by the user.\n",
    "user_input = (input(\"Enter Numbers Separated By Spaces: \"))\n",
    "scores = list(map(int,user_input.split()))\n",
    "maximum = max(scores)\n",
    "print(\"The Maximum Scores are: \",maximum)"
   ]
  },
  {
   "cell_type": "markdown",
   "id": "cd8943ed-04dc-463f-bb97-b7d098fb7269",
   "metadata": {},
   "source": [
    "#### Task No 9 "
   ]
  },
  {
   "cell_type": "code",
   "execution_count": 6,
   "id": "a066a5a9-170b-430d-b35f-5ed610fa512e",
   "metadata": {},
   "outputs": [
    {
     "name": "stdout",
     "output_type": "stream",
     "text": [
      "16\n",
      "35\n",
      "84\n",
      "23\n",
      "62\n"
     ]
    }
   ],
   "source": [
    "# Random Number Generator\n",
    "# Use the random module to generate and print 5 random numbers between 1 and 100. \n",
    "import random\n",
    "for i in range(5):\n",
    "    numbers = random.randint(1,100)\n",
    "    print(numbers)"
   ]
  },
  {
   "cell_type": "markdown",
   "id": "eed09a65-b375-4409-997d-daedef0f8373",
   "metadata": {},
   "source": [
    "#### Task No 10"
   ]
  },
  {
   "cell_type": "code",
   "execution_count": 15,
   "id": "8f9c99a3-8f1f-4bec-805f-452f3dfa0d42",
   "metadata": {},
   "outputs": [
    {
     "name": "stdout",
     "output_type": "stream",
     "text": [
      "Hey! How are You?\n"
     ]
    }
   ],
   "source": [
    "# Import Custom Module\n",
    "# Create your own .py module with a simple function and import it in another file. \n",
    "import custom_module\n",
    "\n",
    "custom_module.greetings()"
   ]
  },
  {
   "cell_type": "markdown",
   "id": "dc6010a5-db79-4799-a149-a1ec598e8d4e",
   "metadata": {},
   "source": [
    "# 😈 Level No 3"
   ]
  },
  {
   "cell_type": "markdown",
   "id": "bb26171f-198e-42c6-9e13-9ccaf57ce58f",
   "metadata": {},
   "source": [
    "#### Task No 1"
   ]
  },
  {
   "cell_type": "code",
   "execution_count": 38,
   "id": "649ac74b-2fd0-4606-acf7-cb1c80ff2d09",
   "metadata": {},
   "outputs": [
    {
     "name": "stdout",
     "output_type": "stream",
     "text": [
      "*****\n",
      "****\n",
      "***\n",
      "**\n",
      "*\n"
     ]
    }
   ],
   "source": [
    "# Print a Pattern\n",
    "# Use nested for loops to print a triangle pattern of *.\n",
    "rows = 5 \n",
    "for i in range(rows,0,-1):\n",
    "    for j in range(i):\n",
    "        print(\"*\",end=\"\")\n",
    "    print()\n"
   ]
  },
  {
   "cell_type": "markdown",
   "id": "d9382326-5f6e-4b8c-81ac-55e4edbded8d",
   "metadata": {},
   "source": [
    "#### Task No 2"
   ]
  },
  {
   "cell_type": "code",
   "execution_count": 43,
   "id": "4023ce70-080c-4afa-92c8-d310e4025417",
   "metadata": {},
   "outputs": [
    {
     "name": "stdout",
     "output_type": "stream",
     "text": [
      "Local x: 5\n",
      "Global x: 12\n"
     ]
    }
   ],
   "source": [
    "# Variable Scope\n",
    "# Create a function where a local variable has the same name as a global one and print both.\n",
    "x = 12 # global variable \n",
    "def var_scope():\n",
    "    x = 5 # local variable\n",
    "    print(\"Local x:\" , x)\n",
    "var_scope()\n",
    "print(\"Global x:\",x)"
   ]
  },
  {
   "cell_type": "markdown",
   "id": "bc37600d-50a4-447f-b0fe-f32a602f8f64",
   "metadata": {},
   "source": [
    "#### Task No 3"
   ]
  },
  {
   "cell_type": "code",
   "execution_count": 45,
   "id": "f66d5c8a-d438-46f1-9ba4-c0181b5ad6ad",
   "metadata": {},
   "outputs": [
    {
     "name": "stdout",
     "output_type": "stream",
     "text": [
      "[1, 4, 9, 16, 25, 36, 49, 64, 81, 100]\n"
     ]
    }
   ],
   "source": [
    "# List Comprehension\n",
    "# Use a list comprehension to create a list of squares from 1 to 10.\n",
    "squares = []\n",
    "for i in range(1, 11):\n",
    "    squares.append(i ** 2)\n",
    "print(squares)"
   ]
  },
  {
   "cell_type": "markdown",
   "id": "e0cddf09-b149-433e-97d1-abc51321bea0",
   "metadata": {},
   "source": [
    "#### Task No 4"
   ]
  },
  {
   "cell_type": "code",
   "execution_count": 51,
   "id": "10ccfcfe-4172-44fd-a335-303f7020f697",
   "metadata": {},
   "outputs": [
    {
     "name": "stdin",
     "output_type": "stream",
     "text": [
      "Enter a Key :  book3\n"
     ]
    },
    {
     "name": "stdout",
     "output_type": "stream",
     "text": [
      "GHI\n"
     ]
    }
   ],
   "source": [
    "# Dictionary Lookup with Error Handling\n",
    "# Ask the user to input a key and print the value from a dictionary. Use .get() to avoid errors.\n",
    "user_input = input(\"Enter a Key : \")\n",
    "books = {\n",
    "    \"book1\" : \"ABC\" ,\n",
    "    \"book2\" : \"DEF\" ,\n",
    "    \"book3\" : \"GHI\" ,\n",
    "    \"book4\" : \"JKL\" ,\n",
    "    \"book5\" : \"MNO\" ,\n",
    "    \"book6\" : \"PQR\" ,\n",
    "}\n",
    "\n",
    "result = books.get(user_input,\"key not found!\")\n",
    "print(result)"
   ]
  },
  {
   "cell_type": "code",
   "execution_count": null,
   "id": "cf05c6d5-e5a3-461f-8b9a-1db1c8d2b6dd",
   "metadata": {},
   "outputs": [],
   "source": []
  }
 ],
 "metadata": {
  "kernelspec": {
   "display_name": "Python [conda env:base] *",
   "language": "python",
   "name": "conda-base-py"
  },
  "language_info": {
   "codemirror_mode": {
    "name": "ipython",
    "version": 3
   },
   "file_extension": ".py",
   "mimetype": "text/x-python",
   "name": "python",
   "nbconvert_exporter": "python",
   "pygments_lexer": "ipython3",
   "version": "3.13.5"
  }
 },
 "nbformat": 4,
 "nbformat_minor": 5
}
