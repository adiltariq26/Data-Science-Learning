{
 "cells": [
  {
   "cell_type": "markdown",
   "id": "c95564aa-213c-4659-aeee-28602f3bccb2",
   "metadata": {},
   "source": [
    "### The re Module"
   ]
  },
  {
   "cell_type": "code",
   "execution_count": 1,
   "id": "5765044e-bca9-4c39-a298-f6db3a1a9593",
   "metadata": {},
   "outputs": [],
   "source": [
    "import re"
   ]
  },
  {
   "cell_type": "markdown",
   "id": "1eca86ea-ad8e-4c18-b886-935901c593fb",
   "metadata": {},
   "source": [
    "#### re.search "
   ]
  },
  {
   "cell_type": "code",
   "execution_count": 6,
   "id": "ede78672-3c4e-42e2-8f2e-9aade0736183",
   "metadata": {},
   "outputs": [],
   "source": [
    "text = \"\"\"Hello World.\n",
    "I love Python!!!!!\n",
    "My first lucky number is 987-654-321\n",
    "My second lucky number is 876-543-210\n",
    "My third lucky number is 765-432-100\n",
    "My fourth lucky number is 123-456-123-123-456\n",
    "\"\"\""
   ]
  },
  {
   "cell_type": "code",
   "execution_count": 9,
   "id": "e305fec2-e590-423a-b73d-96fac6a149c1",
   "metadata": {},
   "outputs": [
    {
     "data": {
      "text/plain": [
       "<re.Match object; span=(57, 60), match='987'>"
      ]
     },
     "execution_count": 9,
     "metadata": {},
     "output_type": "execute_result"
    }
   ],
   "source": [
    "# return the the first match \n",
    "re.search(r'\\d+',text)"
   ]
  },
  {
   "cell_type": "code",
   "execution_count": 10,
   "id": "70d3bcdc-88f3-4115-8680-03c81f5ffa1c",
   "metadata": {},
   "outputs": [],
   "source": [
    "# flags"
   ]
  },
  {
   "cell_type": "code",
   "execution_count": 14,
   "id": "91bf31c5-b9a9-46e0-b5e1-757dd189b3cf",
   "metadata": {},
   "outputs": [
    {
     "data": {
      "text/plain": [
       "<re.Match object; span=(0, 5), match='Hello'>"
      ]
     },
     "execution_count": 14,
     "metadata": {},
     "output_type": "execute_result"
    }
   ],
   "source": [
    "re.search(r'^hello',text, flags = re.I) # I Insensitive flag"
   ]
  },
  {
   "cell_type": "markdown",
   "id": "6d98b5d5-afed-49fd-882e-df1e2dfcaf11",
   "metadata": {},
   "source": [
    "## re.findall()"
   ]
  },
  {
   "cell_type": "code",
   "execution_count": 16,
   "id": "539fee3c-0d2e-4e1e-9e2a-7949986c4302",
   "metadata": {},
   "outputs": [
    {
     "data": {
      "text/plain": [
       "['9',\n",
       " '8',\n",
       " '7',\n",
       " '6',\n",
       " '5',\n",
       " '4',\n",
       " '3',\n",
       " '2',\n",
       " '1',\n",
       " '8',\n",
       " '7',\n",
       " '6',\n",
       " '5',\n",
       " '4',\n",
       " '3',\n",
       " '2',\n",
       " '1',\n",
       " '0',\n",
       " '7',\n",
       " '6',\n",
       " '5',\n",
       " '4',\n",
       " '3',\n",
       " '2',\n",
       " '1',\n",
       " '0',\n",
       " '0',\n",
       " '1',\n",
       " '2',\n",
       " '3',\n",
       " '4',\n",
       " '5',\n",
       " '6',\n",
       " '1',\n",
       " '2',\n",
       " '3',\n",
       " '1',\n",
       " '2',\n",
       " '3',\n",
       " '4',\n",
       " '5',\n",
       " '6']"
      ]
     },
     "execution_count": 16,
     "metadata": {},
     "output_type": "execute_result"
    }
   ],
   "source": [
    "re.findall(r'\\d',text)"
   ]
  },
  {
   "cell_type": "code",
   "execution_count": null,
   "id": "d799abbb-c00e-40f1-ab71-a202b4c6590e",
   "metadata": {},
   "outputs": [],
   "source": [
    "\n"
   ]
  }
 ],
 "metadata": {
  "kernelspec": {
   "display_name": "Python [conda env:base] *",
   "language": "python",
   "name": "conda-base-py"
  },
  "language_info": {
   "codemirror_mode": {
    "name": "ipython",
    "version": 3
   },
   "file_extension": ".py",
   "mimetype": "text/x-python",
   "name": "python",
   "nbconvert_exporter": "python",
   "pygments_lexer": "ipython3",
   "version": "3.13.5"
  }
 },
 "nbformat": 4,
 "nbformat_minor": 5
}
